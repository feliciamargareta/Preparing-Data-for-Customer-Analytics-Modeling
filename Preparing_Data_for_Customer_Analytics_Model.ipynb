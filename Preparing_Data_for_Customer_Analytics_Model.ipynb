{
  "nbformat": 4,
  "nbformat_minor": 0,
  "metadata": {
    "colab": {
      "provenance": [],
      "authorship_tag": "ABX9TyOsxHTcxBqQHby17g+I3Fgw",
      "include_colab_link": true
    },
    "kernelspec": {
      "name": "python3",
      "display_name": "Python 3"
    },
    "language_info": {
      "name": "python"
    }
  },
  "cells": [
    {
      "cell_type": "markdown",
      "metadata": {
        "id": "view-in-github",
        "colab_type": "text"
      },
      "source": [
        "<a href=\"https://colab.research.google.com/github/feliciamargareta/Preparing-Data-for-Customer-Analytics-Modeling/blob/main/Preparing_Data_for_Customer_Analytics_Model.ipynb\" target=\"_parent\"><img src=\"https://colab.research.google.com/assets/colab-badge.svg\" alt=\"Open In Colab\"/></a>"
      ]
    },
    {
      "cell_type": "markdown",
      "source": [
        "A common problem when creating models to generate business value from data is that the datasets can be so large that it can take days for the model to generate predictions. Ensuring that your dataset is stored as efficiently as possible is crucial for allowing these models to run on a more reasonable timescale without having to reduce the size of the dataset.\n",
        "\n",
        "You've been hired by a major online data science training provider called Training Data Ltd. to clean up one of their largest customer datasets. This dataset will eventually be used to predict whether their students are looking for a new job or not, information that they will then use to direct them to prospective recruiters.\n",
        "\n",
        "You've been given access to customer_train.csv, which is a subset of their entire customer dataset, so you can create a proof-of-concept of a much more efficient storage solution. The dataset contains anonymized student information, and whether they were looking for a new job or not during training:\n",
        "\n",
        "- student_id:\tA unique ID for each student.\n",
        "- city:\tA code for the city the student lives in.\n",
        "- city_development_index:\tA scaled development index for the city.\n",
        "- gender:\tThe student's gender.\n",
        "- relevant_experience:\tAn indicator of the student's work relevant experience.\n",
        "- enrolled_university:\tThe type of university course enrolled in (if any).\n",
        "- education_level:\tThe student's education level.\n",
        "- major_discipline:\tThe educational discipline of the student.\n",
        "- experience:\tThe student's total work experience (in years).\n",
        "- company_size:\tThe number of employees at the student's current employer.\n",
        "- last_new_job:\tThe number of years between the student's current and previous jobs.\n",
        "- training_hours:\tThe number of hours of training completed.\n",
        "- job_change:\tAn indicator of whether the student is looking for a new job (1) or not (0)."
      ],
      "metadata": {
        "id": "nwq2bZYW66xZ"
      }
    },
    {
      "cell_type": "markdown",
      "source": [
        "## Exploratory data analysis\n",
        "Load customer_train.csv to begin exploring the data to understand the contents and data types of the values in each column."
      ],
      "metadata": {
        "id": "xwCaaNm47nvf"
      }
    },
    {
      "cell_type": "code",
      "source": [
        "# import packages\n",
        "import pandas as pd\n",
        "\n",
        "# Load the dataset\n",
        "ds_jobs = pd.read_csv(\"customer_train.csv\")\n",
        "\n",
        "# Copy the DataFrame for cleaning\n",
        "ds_jobs_clean = ds_jobs.copy()\n",
        "ds_jobs_clean.head()"
      ],
      "metadata": {
        "colab": {
          "base_uri": "https://localhost:8080/",
          "height": 226
        },
        "id": "XI2yl4nZ6_N1",
        "outputId": "2c5155d4-2b44-4050-fbf7-541c78d74058"
      },
      "execution_count": 1,
      "outputs": [
        {
          "output_type": "execute_result",
          "data": {
            "text/plain": [
              "   student_id      city  city_development_index gender  \\\n",
              "0        8949  city_103                   0.920   Male   \n",
              "1       29725   city_40                   0.776   Male   \n",
              "2       11561   city_21                   0.624    NaN   \n",
              "3       33241  city_115                   0.789    NaN   \n",
              "4         666  city_162                   0.767   Male   \n",
              "\n",
              "       relevant_experience enrolled_university education_level  \\\n",
              "0  Has relevant experience       no_enrollment        Graduate   \n",
              "1   No relevant experience       no_enrollment        Graduate   \n",
              "2   No relevant experience    Full time course        Graduate   \n",
              "3   No relevant experience                 NaN        Graduate   \n",
              "4  Has relevant experience       no_enrollment         Masters   \n",
              "\n",
              "  major_discipline experience company_size    company_type last_new_job  \\\n",
              "0             STEM        >20          NaN             NaN            1   \n",
              "1             STEM         15        50-99         Pvt Ltd           >4   \n",
              "2             STEM          5          NaN             NaN        never   \n",
              "3  Business Degree         <1          NaN         Pvt Ltd        never   \n",
              "4             STEM        >20        50-99  Funded Startup            4   \n",
              "\n",
              "   training_hours  job_change  \n",
              "0              36           1  \n",
              "1              47           0  \n",
              "2              83           0  \n",
              "3              52           1  \n",
              "4               8           0  "
            ],
            "text/html": [
              "\n",
              "  <div id=\"df-259ea714-346e-40a0-b62e-e1482cf14458\" class=\"colab-df-container\">\n",
              "    <div>\n",
              "<style scoped>\n",
              "    .dataframe tbody tr th:only-of-type {\n",
              "        vertical-align: middle;\n",
              "    }\n",
              "\n",
              "    .dataframe tbody tr th {\n",
              "        vertical-align: top;\n",
              "    }\n",
              "\n",
              "    .dataframe thead th {\n",
              "        text-align: right;\n",
              "    }\n",
              "</style>\n",
              "<table border=\"1\" class=\"dataframe\">\n",
              "  <thead>\n",
              "    <tr style=\"text-align: right;\">\n",
              "      <th></th>\n",
              "      <th>student_id</th>\n",
              "      <th>city</th>\n",
              "      <th>city_development_index</th>\n",
              "      <th>gender</th>\n",
              "      <th>relevant_experience</th>\n",
              "      <th>enrolled_university</th>\n",
              "      <th>education_level</th>\n",
              "      <th>major_discipline</th>\n",
              "      <th>experience</th>\n",
              "      <th>company_size</th>\n",
              "      <th>company_type</th>\n",
              "      <th>last_new_job</th>\n",
              "      <th>training_hours</th>\n",
              "      <th>job_change</th>\n",
              "    </tr>\n",
              "  </thead>\n",
              "  <tbody>\n",
              "    <tr>\n",
              "      <th>0</th>\n",
              "      <td>8949</td>\n",
              "      <td>city_103</td>\n",
              "      <td>0.920</td>\n",
              "      <td>Male</td>\n",
              "      <td>Has relevant experience</td>\n",
              "      <td>no_enrollment</td>\n",
              "      <td>Graduate</td>\n",
              "      <td>STEM</td>\n",
              "      <td>&gt;20</td>\n",
              "      <td>NaN</td>\n",
              "      <td>NaN</td>\n",
              "      <td>1</td>\n",
              "      <td>36</td>\n",
              "      <td>1</td>\n",
              "    </tr>\n",
              "    <tr>\n",
              "      <th>1</th>\n",
              "      <td>29725</td>\n",
              "      <td>city_40</td>\n",
              "      <td>0.776</td>\n",
              "      <td>Male</td>\n",
              "      <td>No relevant experience</td>\n",
              "      <td>no_enrollment</td>\n",
              "      <td>Graduate</td>\n",
              "      <td>STEM</td>\n",
              "      <td>15</td>\n",
              "      <td>50-99</td>\n",
              "      <td>Pvt Ltd</td>\n",
              "      <td>&gt;4</td>\n",
              "      <td>47</td>\n",
              "      <td>0</td>\n",
              "    </tr>\n",
              "    <tr>\n",
              "      <th>2</th>\n",
              "      <td>11561</td>\n",
              "      <td>city_21</td>\n",
              "      <td>0.624</td>\n",
              "      <td>NaN</td>\n",
              "      <td>No relevant experience</td>\n",
              "      <td>Full time course</td>\n",
              "      <td>Graduate</td>\n",
              "      <td>STEM</td>\n",
              "      <td>5</td>\n",
              "      <td>NaN</td>\n",
              "      <td>NaN</td>\n",
              "      <td>never</td>\n",
              "      <td>83</td>\n",
              "      <td>0</td>\n",
              "    </tr>\n",
              "    <tr>\n",
              "      <th>3</th>\n",
              "      <td>33241</td>\n",
              "      <td>city_115</td>\n",
              "      <td>0.789</td>\n",
              "      <td>NaN</td>\n",
              "      <td>No relevant experience</td>\n",
              "      <td>NaN</td>\n",
              "      <td>Graduate</td>\n",
              "      <td>Business Degree</td>\n",
              "      <td>&lt;1</td>\n",
              "      <td>NaN</td>\n",
              "      <td>Pvt Ltd</td>\n",
              "      <td>never</td>\n",
              "      <td>52</td>\n",
              "      <td>1</td>\n",
              "    </tr>\n",
              "    <tr>\n",
              "      <th>4</th>\n",
              "      <td>666</td>\n",
              "      <td>city_162</td>\n",
              "      <td>0.767</td>\n",
              "      <td>Male</td>\n",
              "      <td>Has relevant experience</td>\n",
              "      <td>no_enrollment</td>\n",
              "      <td>Masters</td>\n",
              "      <td>STEM</td>\n",
              "      <td>&gt;20</td>\n",
              "      <td>50-99</td>\n",
              "      <td>Funded Startup</td>\n",
              "      <td>4</td>\n",
              "      <td>8</td>\n",
              "      <td>0</td>\n",
              "    </tr>\n",
              "  </tbody>\n",
              "</table>\n",
              "</div>\n",
              "    <div class=\"colab-df-buttons\">\n",
              "\n",
              "  <div class=\"colab-df-container\">\n",
              "    <button class=\"colab-df-convert\" onclick=\"convertToInteractive('df-259ea714-346e-40a0-b62e-e1482cf14458')\"\n",
              "            title=\"Convert this dataframe to an interactive table.\"\n",
              "            style=\"display:none;\">\n",
              "\n",
              "  <svg xmlns=\"http://www.w3.org/2000/svg\" height=\"24px\" viewBox=\"0 -960 960 960\">\n",
              "    <path d=\"M120-120v-720h720v720H120Zm60-500h600v-160H180v160Zm220 220h160v-160H400v160Zm0 220h160v-160H400v160ZM180-400h160v-160H180v160Zm440 0h160v-160H620v160ZM180-180h160v-160H180v160Zm440 0h160v-160H620v160Z\"/>\n",
              "  </svg>\n",
              "    </button>\n",
              "\n",
              "  <style>\n",
              "    .colab-df-container {\n",
              "      display:flex;\n",
              "      gap: 12px;\n",
              "    }\n",
              "\n",
              "    .colab-df-convert {\n",
              "      background-color: #E8F0FE;\n",
              "      border: none;\n",
              "      border-radius: 50%;\n",
              "      cursor: pointer;\n",
              "      display: none;\n",
              "      fill: #1967D2;\n",
              "      height: 32px;\n",
              "      padding: 0 0 0 0;\n",
              "      width: 32px;\n",
              "    }\n",
              "\n",
              "    .colab-df-convert:hover {\n",
              "      background-color: #E2EBFA;\n",
              "      box-shadow: 0px 1px 2px rgba(60, 64, 67, 0.3), 0px 1px 3px 1px rgba(60, 64, 67, 0.15);\n",
              "      fill: #174EA6;\n",
              "    }\n",
              "\n",
              "    .colab-df-buttons div {\n",
              "      margin-bottom: 4px;\n",
              "    }\n",
              "\n",
              "    [theme=dark] .colab-df-convert {\n",
              "      background-color: #3B4455;\n",
              "      fill: #D2E3FC;\n",
              "    }\n",
              "\n",
              "    [theme=dark] .colab-df-convert:hover {\n",
              "      background-color: #434B5C;\n",
              "      box-shadow: 0px 1px 3px 1px rgba(0, 0, 0, 0.15);\n",
              "      filter: drop-shadow(0px 1px 2px rgba(0, 0, 0, 0.3));\n",
              "      fill: #FFFFFF;\n",
              "    }\n",
              "  </style>\n",
              "\n",
              "    <script>\n",
              "      const buttonEl =\n",
              "        document.querySelector('#df-259ea714-346e-40a0-b62e-e1482cf14458 button.colab-df-convert');\n",
              "      buttonEl.style.display =\n",
              "        google.colab.kernel.accessAllowed ? 'block' : 'none';\n",
              "\n",
              "      async function convertToInteractive(key) {\n",
              "        const element = document.querySelector('#df-259ea714-346e-40a0-b62e-e1482cf14458');\n",
              "        const dataTable =\n",
              "          await google.colab.kernel.invokeFunction('convertToInteractive',\n",
              "                                                    [key], {});\n",
              "        if (!dataTable) return;\n",
              "\n",
              "        const docLinkHtml = 'Like what you see? Visit the ' +\n",
              "          '<a target=\"_blank\" href=https://colab.research.google.com/notebooks/data_table.ipynb>data table notebook</a>'\n",
              "          + ' to learn more about interactive tables.';\n",
              "        element.innerHTML = '';\n",
              "        dataTable['output_type'] = 'display_data';\n",
              "        await google.colab.output.renderOutput(dataTable, element);\n",
              "        const docLink = document.createElement('div');\n",
              "        docLink.innerHTML = docLinkHtml;\n",
              "        element.appendChild(docLink);\n",
              "      }\n",
              "    </script>\n",
              "  </div>\n",
              "\n",
              "\n",
              "<div id=\"df-9f9a6298-0d4f-4382-96f7-5c9bf06cb00e\">\n",
              "  <button class=\"colab-df-quickchart\" onclick=\"quickchart('df-9f9a6298-0d4f-4382-96f7-5c9bf06cb00e')\"\n",
              "            title=\"Suggest charts\"\n",
              "            style=\"display:none;\">\n",
              "\n",
              "<svg xmlns=\"http://www.w3.org/2000/svg\" height=\"24px\"viewBox=\"0 0 24 24\"\n",
              "     width=\"24px\">\n",
              "    <g>\n",
              "        <path d=\"M19 3H5c-1.1 0-2 .9-2 2v14c0 1.1.9 2 2 2h14c1.1 0 2-.9 2-2V5c0-1.1-.9-2-2-2zM9 17H7v-7h2v7zm4 0h-2V7h2v10zm4 0h-2v-4h2v4z\"/>\n",
              "    </g>\n",
              "</svg>\n",
              "  </button>\n",
              "\n",
              "<style>\n",
              "  .colab-df-quickchart {\n",
              "      --bg-color: #E8F0FE;\n",
              "      --fill-color: #1967D2;\n",
              "      --hover-bg-color: #E2EBFA;\n",
              "      --hover-fill-color: #174EA6;\n",
              "      --disabled-fill-color: #AAA;\n",
              "      --disabled-bg-color: #DDD;\n",
              "  }\n",
              "\n",
              "  [theme=dark] .colab-df-quickchart {\n",
              "      --bg-color: #3B4455;\n",
              "      --fill-color: #D2E3FC;\n",
              "      --hover-bg-color: #434B5C;\n",
              "      --hover-fill-color: #FFFFFF;\n",
              "      --disabled-bg-color: #3B4455;\n",
              "      --disabled-fill-color: #666;\n",
              "  }\n",
              "\n",
              "  .colab-df-quickchart {\n",
              "    background-color: var(--bg-color);\n",
              "    border: none;\n",
              "    border-radius: 50%;\n",
              "    cursor: pointer;\n",
              "    display: none;\n",
              "    fill: var(--fill-color);\n",
              "    height: 32px;\n",
              "    padding: 0;\n",
              "    width: 32px;\n",
              "  }\n",
              "\n",
              "  .colab-df-quickchart:hover {\n",
              "    background-color: var(--hover-bg-color);\n",
              "    box-shadow: 0 1px 2px rgba(60, 64, 67, 0.3), 0 1px 3px 1px rgba(60, 64, 67, 0.15);\n",
              "    fill: var(--button-hover-fill-color);\n",
              "  }\n",
              "\n",
              "  .colab-df-quickchart-complete:disabled,\n",
              "  .colab-df-quickchart-complete:disabled:hover {\n",
              "    background-color: var(--disabled-bg-color);\n",
              "    fill: var(--disabled-fill-color);\n",
              "    box-shadow: none;\n",
              "  }\n",
              "\n",
              "  .colab-df-spinner {\n",
              "    border: 2px solid var(--fill-color);\n",
              "    border-color: transparent;\n",
              "    border-bottom-color: var(--fill-color);\n",
              "    animation:\n",
              "      spin 1s steps(1) infinite;\n",
              "  }\n",
              "\n",
              "  @keyframes spin {\n",
              "    0% {\n",
              "      border-color: transparent;\n",
              "      border-bottom-color: var(--fill-color);\n",
              "      border-left-color: var(--fill-color);\n",
              "    }\n",
              "    20% {\n",
              "      border-color: transparent;\n",
              "      border-left-color: var(--fill-color);\n",
              "      border-top-color: var(--fill-color);\n",
              "    }\n",
              "    30% {\n",
              "      border-color: transparent;\n",
              "      border-left-color: var(--fill-color);\n",
              "      border-top-color: var(--fill-color);\n",
              "      border-right-color: var(--fill-color);\n",
              "    }\n",
              "    40% {\n",
              "      border-color: transparent;\n",
              "      border-right-color: var(--fill-color);\n",
              "      border-top-color: var(--fill-color);\n",
              "    }\n",
              "    60% {\n",
              "      border-color: transparent;\n",
              "      border-right-color: var(--fill-color);\n",
              "    }\n",
              "    80% {\n",
              "      border-color: transparent;\n",
              "      border-right-color: var(--fill-color);\n",
              "      border-bottom-color: var(--fill-color);\n",
              "    }\n",
              "    90% {\n",
              "      border-color: transparent;\n",
              "      border-bottom-color: var(--fill-color);\n",
              "    }\n",
              "  }\n",
              "</style>\n",
              "\n",
              "  <script>\n",
              "    async function quickchart(key) {\n",
              "      const quickchartButtonEl =\n",
              "        document.querySelector('#' + key + ' button');\n",
              "      quickchartButtonEl.disabled = true;  // To prevent multiple clicks.\n",
              "      quickchartButtonEl.classList.add('colab-df-spinner');\n",
              "      try {\n",
              "        const charts = await google.colab.kernel.invokeFunction(\n",
              "            'suggestCharts', [key], {});\n",
              "      } catch (error) {\n",
              "        console.error('Error during call to suggestCharts:', error);\n",
              "      }\n",
              "      quickchartButtonEl.classList.remove('colab-df-spinner');\n",
              "      quickchartButtonEl.classList.add('colab-df-quickchart-complete');\n",
              "    }\n",
              "    (() => {\n",
              "      let quickchartButtonEl =\n",
              "        document.querySelector('#df-9f9a6298-0d4f-4382-96f7-5c9bf06cb00e button');\n",
              "      quickchartButtonEl.style.display =\n",
              "        google.colab.kernel.accessAllowed ? 'block' : 'none';\n",
              "    })();\n",
              "  </script>\n",
              "</div>\n",
              "    </div>\n",
              "  </div>\n"
            ]
          },
          "metadata": {},
          "execution_count": 1
        }
      ]
    },
    {
      "cell_type": "code",
      "source": [
        "# check the data type of each column\n",
        "ds_jobs_clean.info()"
      ],
      "metadata": {
        "colab": {
          "base_uri": "https://localhost:8080/"
        },
        "id": "0kBCYvsH7y1m",
        "outputId": "512e1267-9a7f-4c77-bcaf-a7d7b98b045c"
      },
      "execution_count": 2,
      "outputs": [
        {
          "output_type": "stream",
          "name": "stdout",
          "text": [
            "<class 'pandas.core.frame.DataFrame'>\n",
            "RangeIndex: 19158 entries, 0 to 19157\n",
            "Data columns (total 14 columns):\n",
            " #   Column                  Non-Null Count  Dtype  \n",
            "---  ------                  --------------  -----  \n",
            " 0   student_id              19158 non-null  int64  \n",
            " 1   city                    19158 non-null  object \n",
            " 2   city_development_index  19158 non-null  float64\n",
            " 3   gender                  14650 non-null  object \n",
            " 4   relevant_experience     19158 non-null  object \n",
            " 5   enrolled_university     18772 non-null  object \n",
            " 6   education_level         18698 non-null  object \n",
            " 7   major_discipline        16345 non-null  object \n",
            " 8   experience              19093 non-null  object \n",
            " 9   company_size            13220 non-null  object \n",
            " 10  company_type            13018 non-null  object \n",
            " 11  last_new_job            18735 non-null  object \n",
            " 12  training_hours          19158 non-null  int64  \n",
            " 13  job_change              19158 non-null  int64  \n",
            "dtypes: float64(1), int64(3), object(10)\n",
            "memory usage: 2.0+ MB\n"
          ]
        }
      ]
    },
    {
      "cell_type": "markdown",
      "source": [
        "## Converting data types"
      ],
      "metadata": {
        "id": "-NLH9lJ972vF"
      }
    },
    {
      "cell_type": "code",
      "source": [
        "# check the ordinal column unique content\n",
        "print(ds_jobs_clean['relevant_experience'].unique())\n",
        "print(ds_jobs_clean['enrolled_university'].unique())\n",
        "print(ds_jobs_clean['education_level'].unique())\n",
        "print(ds_jobs_clean['experience'].unique())\n",
        "print(ds_jobs_clean['company_size'].unique())\n",
        "print(ds_jobs_clean['last_new_job'].unique())"
      ],
      "metadata": {
        "colab": {
          "base_uri": "https://localhost:8080/"
        },
        "id": "GXXbA3ez75hd",
        "outputId": "d4397f34-b755-48fa-e001-e4087b0bd5c7"
      },
      "execution_count": 3,
      "outputs": [
        {
          "output_type": "stream",
          "name": "stdout",
          "text": [
            "['Has relevant experience' 'No relevant experience']\n",
            "['no_enrollment' 'Full time course' nan 'Part time course']\n",
            "['Graduate' 'Masters' 'High School' nan 'Phd' 'Primary School']\n",
            "['>20' '15' '5' '<1' '11' '13' '7' '17' '2' '16' '1' '4' '10' '14' '18'\n",
            " '19' '12' '3' '6' '9' '8' '20' nan]\n",
            "[nan '50-99' '<10' '10000+' '5000-9999' '1000-4999' '10-49' '100-499'\n",
            " '500-999']\n",
            "['1' '>4' 'never' '4' '3' '2' nan]\n"
          ]
        }
      ]
    },
    {
      "cell_type": "markdown",
      "source": [
        "## Converting ordered categories\n",
        "Convert columns containing ordinal categorical data into ordered categories."
      ],
      "metadata": {
        "id": "tG8xrzeY7-S9"
      }
    },
    {
      "cell_type": "code",
      "source": [
        "# Create a dictionary of columns containing ordered categorical data\n",
        "ordered_cats = {\n",
        "    'relevant_experience': ['No relevant experience', 'Has relevant experience'],\n",
        "    'enrolled_university': ['no_enrollment', 'Part time course', 'Full time course'],\n",
        "    'education_level': ['Primary School', 'High School', 'Graduate', 'Masters', 'Phd'],\n",
        "    'experience': ['<1'] + list(map(str, range(1, 21))) + ['>20'],\n",
        "    'company_size': ['<10', '10-49', '50-99', '100-499', '500-999', '1000-4999', '5000-9999', '10000+'],\n",
        "    'last_new_job': ['never', '1', '2', '3', '4', '>4']\n",
        "}"
      ],
      "metadata": {
        "id": "34-jBlM_79q0"
      },
      "execution_count": 4,
      "outputs": []
    },
    {
      "cell_type": "code",
      "source": [
        "# Loop through DataFrame columns to efficiently change data types\n",
        "for col in ds_jobs_clean:\n",
        "\n",
        "    # Convert integer columns to int32\n",
        "    if ds_jobs_clean[col].dtype == 'int':\n",
        "        ds_jobs_clean[col] = ds_jobs_clean[col].astype('int32')\n",
        "\n",
        "    # Convert float columns to float16\n",
        "    elif ds_jobs_clean[col].dtype == 'float':\n",
        "        ds_jobs_clean[col] = ds_jobs_clean[col].astype('float16')\n",
        "\n",
        "    # Convert columns containing ordered categorical data to ordered categories using dict\n",
        "    elif col in ordered_cats.keys():\n",
        "        category = pd.CategoricalDtype(ordered_cats[col], ordered=True)\n",
        "        ds_jobs_clean[col] = ds_jobs_clean[col].astype(category)\n",
        "\n",
        "    # Convert remaining columns to standard categories\n",
        "    else:\n",
        "        ds_jobs_clean[col] = ds_jobs_clean[col].astype('category')\n",
        ""
      ],
      "metadata": {
        "id": "Shq_bug48K3H"
      },
      "execution_count": 5,
      "outputs": []
    },
    {
      "cell_type": "code",
      "source": [
        "# re-check the data type after converting\n",
        "ds_jobs_clean.info()"
      ],
      "metadata": {
        "colab": {
          "base_uri": "https://localhost:8080/"
        },
        "id": "i9Aiqprf9KWq",
        "outputId": "83aa2166-8d40-4450-ff25-30e32fda2a71"
      },
      "execution_count": 7,
      "outputs": [
        {
          "output_type": "stream",
          "name": "stdout",
          "text": [
            "<class 'pandas.core.frame.DataFrame'>\n",
            "Int64Index: 2201 entries, 9 to 19143\n",
            "Data columns (total 14 columns):\n",
            " #   Column                  Non-Null Count  Dtype   \n",
            "---  ------                  --------------  -----   \n",
            " 0   student_id              2201 non-null   int32   \n",
            " 1   city                    2201 non-null   category\n",
            " 2   city_development_index  2201 non-null   float16 \n",
            " 3   gender                  1821 non-null   category\n",
            " 4   relevant_experience     2201 non-null   category\n",
            " 5   enrolled_university     2185 non-null   category\n",
            " 6   education_level         2184 non-null   category\n",
            " 7   major_discipline        2097 non-null   category\n",
            " 8   experience              2201 non-null   category\n",
            " 9   company_size            2201 non-null   category\n",
            " 10  company_type            2144 non-null   category\n",
            " 11  last_new_job            2184 non-null   category\n",
            " 12  training_hours          2201 non-null   int32   \n",
            " 13  job_change              2201 non-null   int32   \n",
            "dtypes: category(10), float16(1), int32(3)\n",
            "memory usage: 76.1 KB\n"
          ]
        }
      ]
    },
    {
      "cell_type": "markdown",
      "source": [
        "We can see that all the data type has been adjusted to expected data type.\n",
        "We can also see that the memory usage also dropped significantly from 2.0+ MB to only 76.1 KB"
      ],
      "metadata": {
        "id": "YzbzR2149O7I"
      }
    },
    {
      "cell_type": "markdown",
      "source": [
        "## Reordering columns\n",
        "Reorder the columns of ds_jobs_clean so it has the same column ordering as the original dataset."
      ],
      "metadata": {
        "id": "_CVTpIbx8Ny7"
      }
    },
    {
      "cell_type": "code",
      "source": [
        "# Filter students with 10 or more years experience at companies with at least 1000 employees\n",
        "ds_jobs_clean = ds_jobs_clean[(ds_jobs_clean['experience'] >= '10') & (ds_jobs_clean['company_size'] >= '1000-4999')]"
      ],
      "metadata": {
        "id": "7QK1Q9P08Pwo"
      },
      "execution_count": 6,
      "outputs": []
    },
    {
      "cell_type": "code",
      "source": [
        "# check the company size filter\n",
        "ds_jobs_clean.groupby(['company_size']).size()"
      ],
      "metadata": {
        "colab": {
          "base_uri": "https://localhost:8080/"
        },
        "id": "HT7RjR8t_gbk",
        "outputId": "9176a0b9-99c2-43e7-a2a0-105c344a97dd"
      },
      "execution_count": 12,
      "outputs": [
        {
          "output_type": "execute_result",
          "data": {
            "text/plain": [
              "company_size\n",
              "<10             0\n",
              "10-49           0\n",
              "50-99           0\n",
              "100-499         0\n",
              "500-999         0\n",
              "1000-4999     796\n",
              "5000-9999     310\n",
              "10000+       1095\n",
              "dtype: int64"
            ]
          },
          "metadata": {},
          "execution_count": 12
        }
      ]
    },
    {
      "cell_type": "code",
      "source": [
        "# check the experience filter\n",
        "ds_jobs_clean.groupby(['experience']).size()"
      ],
      "metadata": {
        "colab": {
          "base_uri": "https://localhost:8080/"
        },
        "id": "2H3qlW9B_oO8",
        "outputId": "2e5f95f6-a466-442a-9df2-0cde9b9f82e5"
      },
      "execution_count": 13,
      "outputs": [
        {
          "output_type": "execute_result",
          "data": {
            "text/plain": [
              "experience\n",
              "<1       0\n",
              "1        0\n",
              "2        0\n",
              "3        0\n",
              "4        0\n",
              "5        0\n",
              "6        0\n",
              "7        0\n",
              "8        0\n",
              "9        0\n",
              "10     245\n",
              "11     149\n",
              "12     107\n",
              "13     103\n",
              "14     147\n",
              "15     172\n",
              "16     128\n",
              "17      91\n",
              "18      68\n",
              "19      83\n",
              "20      49\n",
              ">20    859\n",
              "dtype: int64"
            ]
          },
          "metadata": {},
          "execution_count": 13
        }
      ]
    },
    {
      "cell_type": "markdown",
      "source": [
        "The filter has been applied correctly to the final dataframe"
      ],
      "metadata": {
        "id": "5Yw9A4ut_9qp"
      }
    }
  ]
}